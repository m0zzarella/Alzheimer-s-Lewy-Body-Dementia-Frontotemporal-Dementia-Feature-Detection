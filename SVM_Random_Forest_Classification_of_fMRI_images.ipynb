{
  "nbformat": 4,
  "nbformat_minor": 0,
  "metadata": {
    "colab": {
      "provenance": [],
      "authorship_tag": "ABX9TyP9MGBgdT2J0Ko/zypOungo",
      "include_colab_link": true
    },
    "kernelspec": {
      "name": "python3",
      "display_name": "Python 3"
    },
    "language_info": {
      "name": "python"
    }
  },
  "cells": [
    {
      "cell_type": "markdown",
      "metadata": {
        "id": "view-in-github",
        "colab_type": "text"
      },
      "source": [
        "<a href=\"https://colab.research.google.com/github/m0zzarella/Alzheimer-s-Lewy-Body-Dementia-Frontotemporal-Dementia-Feature-Detection/blob/main/SVM_Random_Forest_Classification_of_fMRI_images.ipynb\" target=\"_parent\"><img src=\"https://colab.research.google.com/assets/colab-badge.svg\" alt=\"Open In Colab\"/></a>"
      ]
    },
    {
      "cell_type": "code",
      "execution_count": null,
      "metadata": {
        "id": "brfzfpvKqLpT"
      },
      "outputs": [],
      "source": []
    },
    {
      "cell_type": "code",
      "source": [
        "from google.colab import drive\n",
        "drive.mount('/content/drive')"
      ],
      "metadata": {
        "colab": {
          "base_uri": "https://localhost:8080/"
        },
        "id": "ePooWLPtqO8Y",
        "outputId": "27316e1f-b5e8-4b51-921b-ee816f187053"
      },
      "execution_count": 2,
      "outputs": [
        {
          "output_type": "stream",
          "name": "stdout",
          "text": [
            "Mounted at /content/drive\n"
          ]
        }
      ]
    },
    {
      "cell_type": "code",
      "source": [
        "data_path = \"/content/drive/MyDrive/Alzheimer_Classification\""
      ],
      "metadata": {
        "id": "txtjFo2kqP87"
      },
      "execution_count": 3,
      "outputs": []
    },
    {
      "cell_type": "code",
      "source": [
        "import numpy as np\n",
        "import cv2\n",
        "import os\n",
        "from sklearn.svm import SVC\n",
        "from sklearn.model_selection import train_test_split\n",
        "from sklearn.metrics import accuracy_score, precision_score, recall_score, f1_score\n"
      ],
      "metadata": {
        "id": "zXaE4qOEqgWu"
      },
      "execution_count": 4,
      "outputs": []
    },
    {
      "cell_type": "code",
      "source": [
        "\n",
        "disease_folder = '/content/drive/MyDrive/Alzheimer_Classification/AD_Data'\n",
        "control_folder = '/content/drive/MyDrive/Alzheimer_Classification/CN_Data'\n",
        "\n",
        "disease_label = 1\n",
        "control_label = 0"
      ],
      "metadata": {
        "id": "3XqiAjrqqkGb"
      },
      "execution_count": 7,
      "outputs": []
    },
    {
      "cell_type": "code",
      "source": [
        "disease_images = []\n",
        "disease_labels = []\n",
        "\n",
        "\n",
        "disease_count = 0\n",
        "normal_count = 0\n",
        "for filename in tqdm(os.listdir(disease_folder)):\n",
        "    img = cv2.imread(os.path.join(disease_folder, filename))\n",
        "    if img is not None:\n",
        "        img = cv2.resize(img, (128, 128))\n",
        "        disease_images.append(img)\n",
        "        disease_labels.append(disease_label)\n",
        "        disease_count+=1\n",
        "\n",
        "\n",
        "control_images = []\n",
        "control_labels = []\n",
        "for filename in tqdm(os.listdir(control_folder)):\n",
        "    img = cv2.imread(os.path.join(control_folder, filename))\n",
        "    if img is not None:\n",
        "        img = cv2.resize(img, (128, 128))\n",
        "        control_images.append(img)\n",
        "        control_labels.append(control_label)\n",
        "        normal_count+=1"
      ],
      "metadata": {
        "id": "lm-cFK8pqu1C",
        "colab": {
          "base_uri": "https://localhost:8080/"
        },
        "outputId": "ab234f2f-cbd0-46ca-8335-f7ed225bc744"
      },
      "execution_count": 15,
      "outputs": [
        {
          "output_type": "stream",
          "name": "stderr",
          "text": [
            "100%|██████████| 1634/1634 [00:05<00:00, 325.52it/s]\n",
            "100%|██████████| 1032/1032 [00:03<00:00, 288.87it/s]\n"
          ]
        }
      ]
    },
    {
      "cell_type": "code",
      "source": [
        "images = np.concatenate((disease_images, control_images))\n",
        "labels = np.concatenate((disease_labels, control_labels))\n",
        "\n",
        "\n",
        "train_images, test_images, train_labels, test_labels = train_test_split(images, labels, test_size=0.2, random_state=42)\n",
        "\n",
        "\n",
        "train_images = train_images.reshape(train_images.shape[0], -1)\n",
        "test_images = test_images.reshape(test_images.shape[0], -1)\n",
        "\n",
        "print(\"Length of:\")\n",
        "print(f\"Training Images = {len(train_images)}\")\n",
        "print(f\"Testing Images = {len(test_images)}\")\n",
        "print(f\"Train Labels = {len(train_labels)}\")\n",
        "print(f\"Test Labels = {len(test_labels)}\")\n",
        "print(f\"-No. of Class 0 (Cognitive Normal) samples = {normal_count}-\")\n",
        "print(f\"-No. of Class 1 (Alzheimer's Disease) samples = {disease_count}-\")\n"
      ],
      "metadata": {
        "colab": {
          "base_uri": "https://localhost:8080/"
        },
        "id": "Ovmi7xCpq5hm",
        "outputId": "cc961a2d-a39c-4e38-c329-5a3dcef92693"
      },
      "execution_count": 16,
      "outputs": [
        {
          "output_type": "stream",
          "name": "stdout",
          "text": [
            "Length of:\n",
            "Training Images = 2132\n",
            "Testing Images = 534\n",
            "Train Labels = 2132\n",
            "Test Labels = 534\n",
            "-No. of Class 0 (Cognitive Normal) samples = 1032-\n",
            "-No. of Class 1 (Alzheimer's Disease) samples = 1634-\n"
          ]
        }
      ]
    },
    {
      "cell_type": "code",
      "source": [
        "\n",
        "#SVM models\n",
        "linear_svm = SVC(kernel='linear')\n",
        "rbf_svm = SVC(kernel='rbf')\n",
        "\n",
        "#train the SVM models\n",
        "linear_svm.fit(train_images, train_labels)\n",
        "rbf_svm.fit(train_images, train_labels)\n",
        "\n",
        "#predict the labels for the test images\n",
        "linear_preds = linear_svm.predict(test_images)\n",
        "rbf_preds = rbf_svm.predict(test_images)\n",
        "\n",
        "#calculate the accuracy, precision, recall, and F1-score scores\n",
        "linear_acc = accuracy_score(test_labels, linear_preds)\n",
        "rbf_acc = accuracy_score(test_labels, rbf_preds)\n",
        "\n",
        "linear_precision = precision_score(test_labels, linear_preds)\n",
        "rbf_precision = precision_score(test_labels, rbf_preds)\n",
        "\n",
        "linear_recall = recall_score(test_labels, linear_preds)\n",
        "rbf_recall = recall_score(test_labels, rbf_preds)\n",
        "\n",
        "linear_f1 = f1_score(test_labels, linear_preds)\n",
        "rbf_f1 = f1_score(test_labels, rbf_preds)\n"
      ],
      "metadata": {
        "id": "kTvvm8s3U71V"
      },
      "execution_count": 17,
      "outputs": []
    },
    {
      "cell_type": "code",
      "source": [
        "from sklearn.metrics import confusion_matrix\n",
        "\n",
        "\n",
        "\n",
        "tn1, fp1, fn1, tp1 = confusion_matrix(test_labels, linear_preds).ravel()\n",
        "# Calculate sensitivity and specificity\n",
        "sensitivity_linear = tp1 / (tp1 + fn1)\n",
        "specificity_linear = tn1 / (tn1 + fp1)\n",
        "\n",
        "tn2, fp2, fn2, tp2 = confusion_matrix(test_labels, rbf_preds).ravel()\n",
        "# Calculate sensitivity and specificity\n",
        "sensitivity_rbf = tp2 / (tp2 + fn2)\n",
        "specificity_rbf = tn2 / (tn2 + fp2)\n",
        "\n",
        "\n",
        "print(\"--- Linear Kernel Metrics Performances --- \")\n",
        "\n",
        "print(f\"Specificity Linear: {specificity_linear:.2f}\")\n",
        "print(f\"Sensitivity Linear: {sensitivity_linear:.2f}\")\n",
        "\n",
        "print(f\"Linear SVM accuracy: { linear_acc: 0.2f}\")\n",
        "print(f\"Linear SVM precision: { linear_precision: .2f}\")\n",
        "print(f\"Linear SVM recall: {linear_recall: .2f}\")\n",
        "print(f\"Linear SVM F1-score: {linear_f1: 0.2f}\")\n",
        "\n",
        "\n",
        "\n",
        "\n"
      ],
      "metadata": {
        "colab": {
          "base_uri": "https://localhost:8080/"
        },
        "id": "N7eiONMUtMah",
        "outputId": "9002efd9-a794-47cb-f7b8-a191e768d8eb"
      },
      "execution_count": 18,
      "outputs": [
        {
          "output_type": "stream",
          "name": "stdout",
          "text": [
            "--- Linear Kernel Metrics Performances --- \n",
            "Specificity Linear: 0.82\n",
            "Sensitivity Linear: 0.89\n",
            "Linear SVM accuracy:  0.86\n",
            "Linear SVM precision:  0.89\n",
            "Linear SVM recall:  0.89\n",
            "Linear SVM F1-score:  0.89\n"
          ]
        }
      ]
    },
    {
      "cell_type": "code",
      "source": [
        "print(\"--- RBF Kernel Metrics Performances --- \")\n",
        "\n",
        "print(f\"Specificity_RBF: {specificity_rbf:.2f}\")\n",
        "print(f\"Sensitivity RBF: {sensitivity_rbf:.2f}\")\n",
        "print(f\"RBF SVM accuracy: { rbf_acc: 0.2f}\")\n",
        "print(f\"RBF SVM precision: { rbf_precision: 0.2f}\")\n",
        "print(f\"RBF SVM recall: { rbf_recall: 0.2f}\")\n",
        "print(f\"RBF SVM F1-score: { rbf_f1: 0.2f}\")"
      ],
      "metadata": {
        "colab": {
          "base_uri": "https://localhost:8080/"
        },
        "id": "ObYr3Idmv9q0",
        "outputId": "98f8b852-8195-405d-9221-0ec7bad5259e"
      },
      "execution_count": 19,
      "outputs": [
        {
          "output_type": "stream",
          "name": "stdout",
          "text": [
            "--- RBF Kernel Metrics Performances --- \n",
            "Specificity_RBF: 0.66\n",
            "Sensitivity RBF: 0.96\n",
            "RBF SVM accuracy:  0.84\n",
            "RBF SVM precision:  0.83\n",
            "RBF SVM recall:  0.96\n",
            "RBF SVM F1-score:  0.89\n"
          ]
        }
      ]
    },
    {
      "cell_type": "code",
      "source": [
        "import numpy as np\n",
        "from sklearn.ensemble import RandomForestClassifier\n",
        "from sklearn.metrics import classification_report\n",
        "\n",
        "rfc = RandomForestClassifier(n_estimators=100, random_state=42)\n",
        "\n",
        "\n",
        "rfc.fit(train_images.reshape(len(train_images), -1), train_labels)\n",
        "\n",
        "\n",
        "pred_labels = rfc.predict(test_images.reshape(len(test_images), -1))\n",
        "\n",
        "print(classification_report(test_labels, pred_labels))"
      ],
      "metadata": {
        "colab": {
          "base_uri": "https://localhost:8080/"
        },
        "id": "4kJgplNmw2Zn",
        "outputId": "c6dfaddf-700b-403a-a390-ceb74fed19b5"
      },
      "execution_count": 20,
      "outputs": [
        {
          "output_type": "stream",
          "name": "stdout",
          "text": [
            "              precision    recall  f1-score   support\n",
            "\n",
            "           0       0.91      0.87      0.89       198\n",
            "           1       0.92      0.95      0.94       336\n",
            "\n",
            "    accuracy                           0.92       534\n",
            "   macro avg       0.92      0.91      0.91       534\n",
            "weighted avg       0.92      0.92      0.92       534\n",
            "\n"
          ]
        }
      ]
    }
  ]
}